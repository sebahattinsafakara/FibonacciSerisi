{
 "cells": [
  {
   "cell_type": "code",
   "execution_count": 9,
   "id": "927519f3",
   "metadata": {},
   "outputs": [
    {
     "name": "stdout",
     "output_type": "stream",
     "text": [
      "[0, 1, 1, 2, 3, 5, 8, 13, 21, 34, 55, 89, 144, 233, 377, 610, 987, 1597, 2584, 4181, 6765, 10946, 17711, 28657, 46368, 75025, 121393, 196418, 317811, 514229, 832040, 1346269, 2178309, 3524578, 5702887, 9227465, 14930352, 24157817, 39088169, 63245986, 102334155, 165580141, 267914296, 433494437, 701408733]\n"
     ]
    }
   ],
   "source": [
    "def fibonacci(son):\n",
    "    if son <= 0:\n",
    "        return []\n",
    "    elif son == 1:\n",
    "        return [0]\n",
    "    else:\n",
    "        fib = [0, 1]\n",
    "        while len(fib) < son:\n",
    "            fib.append(fib[-1] + fib[-2])\n",
    "        return fib\n",
    "\n",
    "print(fibonacci(50))\n"
   ]
  },
  {
   "cell_type": "code",
   "execution_count": null,
   "id": "d74e1cc6",
   "metadata": {},
   "outputs": [],
   "source": []
  }
 ],
 "metadata": {
  "kernelspec": {
   "display_name": "Python 3 (ipykernel)",
   "language": "python",
   "name": "python3"
  },
  "language_info": {
   "codemirror_mode": {
    "name": "ipython",
    "version": 3
   },
   "file_extension": ".py",
   "mimetype": "text/x-python",
   "name": "python",
   "nbconvert_exporter": "python",
   "pygments_lexer": "ipython3",
   "version": "3.10.9"
  }
 },
 "nbformat": 4,
 "nbformat_minor": 5
}
